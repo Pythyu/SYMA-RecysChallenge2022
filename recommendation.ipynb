{
 "cells": [
  {
   "cell_type": "code",
   "execution_count": 1,
   "id": "539ab47e",
   "metadata": {
    "id": "539ab47e"
   },
   "outputs": [],
   "source": [
    "import pandas as pd\n",
    "from tqdm import tqdm\n",
    "import numpy as np"
   ]
  },
  {
   "cell_type": "markdown",
   "id": "e7a572a9",
   "metadata": {},
   "source": [
    "# Datasets\n",
    "\n",
    "Nous chargeons les datasets `train_sessions` et `train_purchases` pour entrainer les données. Nous ignorons `item_features` car les calculs de similarités relatifs aux features prennent beaucoup de temps."
   ]
  },
  {
   "cell_type": "code",
   "execution_count": 2,
   "id": "FYuiYHdlEN-V",
   "metadata": {
    "id": "FYuiYHdlEN-V"
   },
   "outputs": [],
   "source": [
    "train_sessions = pd.read_csv('datasets/train_sessions.csv')\n",
    "train_purchases = pd.read_csv('datasets/train_purchases.csv')\n",
    "df_train = pd.concat([train_sessions, train_purchases], ignore_index=True)"
   ]
  },
  {
   "cell_type": "code",
   "execution_count": 3,
   "id": "Xil4XZgbEaJS",
   "metadata": {
    "colab": {
     "base_uri": "https://localhost:8080/",
     "height": 424
    },
    "id": "Xil4XZgbEaJS",
    "outputId": "800c89bc-e920-44c3-90dd-5b4675e4acf4"
   },
   "outputs": [
    {
     "data": {
      "text/html": [
       "<div>\n",
       "<style scoped>\n",
       "    .dataframe tbody tr th:only-of-type {\n",
       "        vertical-align: middle;\n",
       "    }\n",
       "\n",
       "    .dataframe tbody tr th {\n",
       "        vertical-align: top;\n",
       "    }\n",
       "\n",
       "    .dataframe thead th {\n",
       "        text-align: right;\n",
       "    }\n",
       "</style>\n",
       "<table border=\"1\" class=\"dataframe\">\n",
       "  <thead>\n",
       "    <tr style=\"text-align: right;\">\n",
       "      <th></th>\n",
       "      <th>session_id</th>\n",
       "      <th>item_id</th>\n",
       "      <th>date</th>\n",
       "    </tr>\n",
       "  </thead>\n",
       "  <tbody>\n",
       "    <tr>\n",
       "      <th>0</th>\n",
       "      <td>3</td>\n",
       "      <td>9655</td>\n",
       "      <td>2020-12-18 21:25:00.373</td>\n",
       "    </tr>\n",
       "    <tr>\n",
       "      <th>1</th>\n",
       "      <td>3</td>\n",
       "      <td>9655</td>\n",
       "      <td>2020-12-18 21:19:48.093</td>\n",
       "    </tr>\n",
       "    <tr>\n",
       "      <th>2</th>\n",
       "      <td>13</td>\n",
       "      <td>15654</td>\n",
       "      <td>2020-03-13 19:35:27.136</td>\n",
       "    </tr>\n",
       "    <tr>\n",
       "      <th>3</th>\n",
       "      <td>18</td>\n",
       "      <td>18316</td>\n",
       "      <td>2020-08-26 19:18:30.833</td>\n",
       "    </tr>\n",
       "    <tr>\n",
       "      <th>4</th>\n",
       "      <td>18</td>\n",
       "      <td>2507</td>\n",
       "      <td>2020-08-26 19:16:31.211</td>\n",
       "    </tr>\n",
       "  </tbody>\n",
       "</table>\n",
       "</div>"
      ],
      "text/plain": [
       "   session_id  item_id                     date\n",
       "0           3     9655  2020-12-18 21:25:00.373\n",
       "1           3     9655  2020-12-18 21:19:48.093\n",
       "2          13    15654  2020-03-13 19:35:27.136\n",
       "3          18    18316  2020-08-26 19:18:30.833\n",
       "4          18     2507  2020-08-26 19:16:31.211"
      ]
     },
     "execution_count": 3,
     "metadata": {},
     "output_type": "execute_result"
    }
   ],
   "source": [
    "df_train.head()"
   ]
  },
  {
   "cell_type": "markdown",
   "id": "15009b5d-451e-4955-bfec-581b7d126964",
   "metadata": {},
   "source": [
    "# Preprocessing\n",
    "\n",
    "Ici nous tranformons les dates en timestamp unix pour pouvoir plus tard calculer des différences de temps."
   ]
  },
  {
   "cell_type": "code",
   "execution_count": 4,
   "id": "UgiPTgQdEl6n",
   "metadata": {
    "colab": {
     "base_uri": "https://localhost:8080/"
    },
    "id": "UgiPTgQdEl6n",
    "outputId": "6db458df-8b84-4c90-c260-80eb39958888"
   },
   "outputs": [
    {
     "data": {
      "text/html": [
       "<div>\n",
       "<style scoped>\n",
       "    .dataframe tbody tr th:only-of-type {\n",
       "        vertical-align: middle;\n",
       "    }\n",
       "\n",
       "    .dataframe tbody tr th {\n",
       "        vertical-align: top;\n",
       "    }\n",
       "\n",
       "    .dataframe thead th {\n",
       "        text-align: right;\n",
       "    }\n",
       "</style>\n",
       "<table border=\"1\" class=\"dataframe\">\n",
       "  <thead>\n",
       "    <tr style=\"text-align: right;\">\n",
       "      <th></th>\n",
       "      <th>session_id</th>\n",
       "      <th>item_id</th>\n",
       "      <th>date</th>\n",
       "      <th>ts</th>\n",
       "    </tr>\n",
       "  </thead>\n",
       "  <tbody>\n",
       "    <tr>\n",
       "      <th>1</th>\n",
       "      <td>3</td>\n",
       "      <td>9655</td>\n",
       "      <td>2020-12-18 21:19:48.093</td>\n",
       "      <td>1.608326e+09</td>\n",
       "    </tr>\n",
       "    <tr>\n",
       "      <th>0</th>\n",
       "      <td>3</td>\n",
       "      <td>9655</td>\n",
       "      <td>2020-12-18 21:25:00.373</td>\n",
       "      <td>1.608327e+09</td>\n",
       "    </tr>\n",
       "    <tr>\n",
       "      <th>4743820</th>\n",
       "      <td>3</td>\n",
       "      <td>15085</td>\n",
       "      <td>2020-12-18 21:26:47.986</td>\n",
       "      <td>1.608327e+09</td>\n",
       "    </tr>\n",
       "    <tr>\n",
       "      <th>2</th>\n",
       "      <td>13</td>\n",
       "      <td>15654</td>\n",
       "      <td>2020-03-13 19:35:27.136</td>\n",
       "      <td>1.584128e+09</td>\n",
       "    </tr>\n",
       "    <tr>\n",
       "      <th>4743821</th>\n",
       "      <td>13</td>\n",
       "      <td>18626</td>\n",
       "      <td>2020-03-13 19:36:15.507</td>\n",
       "      <td>1.584128e+09</td>\n",
       "    </tr>\n",
       "  </tbody>\n",
       "</table>\n",
       "</div>"
      ],
      "text/plain": [
       "         session_id  item_id                     date            ts\n",
       "1                 3     9655  2020-12-18 21:19:48.093  1.608326e+09\n",
       "0                 3     9655  2020-12-18 21:25:00.373  1.608327e+09\n",
       "4743820           3    15085  2020-12-18 21:26:47.986  1.608327e+09\n",
       "2                13    15654  2020-03-13 19:35:27.136  1.584128e+09\n",
       "4743821          13    18626  2020-03-13 19:36:15.507  1.584128e+09"
      ]
     },
     "execution_count": 4,
     "metadata": {},
     "output_type": "execute_result"
    }
   ],
   "source": [
    "df_train[\"ts\"] = pd.to_datetime(df_train.date).astype(\"int64\") / 1E9 # timestamp en secondes\n",
    "df_train = df_train.sort_values(by = [\"session_id\", \"ts\"], ascending = True)\n",
    "df_train.head()"
   ]
  },
  {
   "cell_type": "markdown",
   "id": "f8b033c3-6e12-4504-8b18-1e33bb442743",
   "metadata": {},
   "source": [
    "Ici nous préparons les datasets de manière à optimiser les étapes de calcul de similarité."
   ]
  },
  {
   "cell_type": "code",
   "execution_count": 5,
   "id": "2a987d3a-4c34-4600-b2c6-3f6e10b76497",
   "metadata": {},
   "outputs": [],
   "source": [
    "train_purchases['ts'] = pd.to_datetime(train_purchases.date).astype('int64') / 1E9\n",
    "session_time = df_train.groupby(\"session_id\")[\"ts\"].agg(list).reset_index()\n",
    "session_time_dict = session_time.set_index(\"session_id\")[\"ts\"].to_dict()"
   ]
  },
  {
   "cell_type": "markdown",
   "id": "2e69a0e2-c826-40ac-9c1f-9ff27db6c79c",
   "metadata": {},
   "source": [
    "# Fonction de similarité\n",
    "\n",
    "Nous choisissons de définir un score de similarité pour chaque couple d'items\n",
    "\n",
    "Pour chaque couple d'item $(i,j)$ dans chaque session $s$ nous calculons le score de la sorte\n",
    "\n",
    "$\\displaystyle{score_{ij} = \\sum_s {e^{- \\varphi_1( \\Delta T )} * e^{- \\varphi_2 (\\Delta items) } \\over |s|}}$\n",
    "\n",
    "Avec $\\varphi_1$ et $\\varphi_2$ des applications linéaires arbitraires définies manuellement pour pondérer l'influence $\\Delta T$ (distance temporelle) et $\\Delta items$ (distance en quantité d'items qui les séparent dans la session $s$)\n",
    "\n",
    "$|s|$ étant la taille de la session\n"
   ]
  },
  {
   "cell_type": "code",
   "execution_count": 6,
   "id": "564coUGJ2ma2",
   "metadata": {
    "id": "564coUGJ2ma2",
    "scrolled": true
   },
   "outputs": [
    {
     "name": "stderr",
     "output_type": "stream",
     "text": [
      "100%|███████████████████████████████████████████████████████████████████████████████████████| 4/4 [00:00<00:00, 3416.25it/s]"
     ]
    },
    {
     "name": "stdout",
     "output_type": "stream",
     "text": [
      "For session 3 and its items [9655, 9655]\n",
      "   For index 0 and item 9655\n",
      "       For index2 0 and item2 9655\n",
      "       For index2 1 and item2 9655\n",
      "   For index 1 and item 9655\n",
      "       For index2 0 and item2 9655\n",
      "       For index2 1 and item2 9655\n",
      "For session 13 and its items [15654]\n",
      "   For index 0 and item 15654\n",
      "       For index2 0 and item2 15654\n",
      "For session 18 and its items [18316, 2507, 4026]\n",
      "   For index 0 and item 18316\n",
      "       For index2 0 and item2 18316\n",
      "       For index2 1 and item2 2507\n",
      "            item1 18316 different than item2 2507 so:\n",
      "            delta_index = 1\n",
      "            delta_time = 0.012216388848092822\n",
      "            similarity = 0.33327678077538553\n",
      "       For index2 2 and item2 4026\n",
      "            item1 18316 different than item2 4026 so:\n",
      "            delta_index = 2\n",
      "            delta_time = 0.04544472217559815\n",
      "            similarity = 0.27273805078531216\n",
      "   For index 1 and item 2507\n",
      "       For index2 0 and item2 18316\n",
      "            item1 2507 different than item2 18316 so:\n",
      "            delta_index = 1\n",
      "            delta_time = 0.012216388848092822\n",
      "            similarity = 0.33327678077538553\n",
      "       For index2 1 and item2 2507\n",
      "       For index2 2 and item2 4026\n",
      "            item1 2507 different than item2 4026 so:\n",
      "            delta_index = 1\n",
      "            delta_time = 0.03322833332750532\n",
      "            similarity = 0.33317953394911076\n",
      "   For index 2 and item 4026\n",
      "       For index2 0 and item2 18316\n",
      "            item1 4026 different than item2 18316 so:\n",
      "            delta_index = 2\n",
      "            delta_time = 0.04544472217559815\n",
      "            similarity = 0.27273805078531216\n",
      "       For index2 1 and item2 2507\n",
      "            item1 4026 different than item2 2507 so:\n",
      "            delta_index = 1\n",
      "            delta_time = 0.03322833332750532\n",
      "            similarity = 0.33317953394911076\n",
      "       For index2 2 and item2 4026\n",
      "For session 19 and its items [25772, 6341, 25555, 20033]\n",
      "   For index 0 and item 25772\n",
      "       For index2 0 and item2 25772\n",
      "       For index2 1 and item2 6341\n",
      "            item1 25772 different than item2 6341 so:\n",
      "            delta_index = 1\n",
      "            delta_time = 0.003285833398501078\n",
      "            similarity = 0.24998859111658836\n",
      "       For index2 2 and item2 25555\n",
      "            item1 25772 different than item2 25555 so:\n",
      "            delta_index = 2\n",
      "            delta_time = 0.008158611125416226\n",
      "            similarity = 0.20465949616049253\n",
      "       For index2 3 and item2 20033\n",
      "            item1 25772 different than item2 20033 so:\n",
      "            delta_index = 3\n",
      "            delta_time = 0.011712500055631002\n",
      "            similarity = 0.16755275288034804\n",
      "   For index 1 and item 6341\n",
      "       For index2 0 and item2 25772\n",
      "            item1 6341 different than item2 25772 so:\n",
      "            delta_index = 1\n",
      "            delta_time = 0.003285833398501078\n",
      "            similarity = 0.24998859111658836\n",
      "       For index2 1 and item2 6341\n",
      "       For index2 2 and item2 25555\n",
      "            item1 6341 different than item2 25555 so:\n",
      "            delta_index = 1\n",
      "            delta_time = 0.004872777726915148\n",
      "            similarity = 0.2499830812054097\n",
      "       For index2 3 and item2 20033\n",
      "            item1 6341 different than item2 20033 so:\n",
      "            delta_index = 2\n",
      "            delta_time = 0.008426666657129923\n",
      "            similarity = 0.2046587342159378\n",
      "   For index 2 and item 25555\n",
      "       For index2 0 and item2 25772\n",
      "            item1 25555 different than item2 25772 so:\n",
      "            delta_index = 2\n",
      "            delta_time = 0.008158611125416226\n",
      "            similarity = 0.20465949616049253\n",
      "       For index2 1 and item2 6341\n",
      "            item1 25555 different than item2 6341 so:\n",
      "            delta_index = 1\n",
      "            delta_time = 0.004872777726915148\n",
      "            similarity = 0.2499830812054097\n",
      "       For index2 2 and item2 25555\n",
      "       For index2 3 and item2 20033\n",
      "            item1 25555 different than item2 20033 so:\n",
      "            delta_index = 1\n",
      "            delta_time = 0.003553888930214776\n",
      "            similarity = 0.24998766041242207\n",
      "   For index 3 and item 20033\n",
      "       For index2 0 and item2 25772\n",
      "            item1 20033 different than item2 25772 so:\n",
      "            delta_index = 3\n",
      "            delta_time = 0.011712500055631002\n",
      "            similarity = 0.16755275288034804\n",
      "       For index2 1 and item2 6341\n",
      "            item1 20033 different than item2 6341 so:\n",
      "            delta_index = 2\n",
      "            delta_time = 0.008426666657129923\n",
      "            similarity = 0.2046587342159378\n",
      "       For index2 2 and item2 25555\n",
      "            item1 20033 different than item2 25555 so:\n",
      "            delta_index = 1\n",
      "            delta_time = 0.003553888930214776\n",
      "            similarity = 0.24998766041242207\n",
      "       For index2 3 and item2 20033\n"
     ]
    },
    {
     "name": "stderr",
     "output_type": "stream",
     "text": [
      "\n"
     ]
    },
    {
     "data": {
      "text/plain": [
       "{9655: {},\n",
       " 15654: {},\n",
       " 18316: {2507: 0.33327678077538553, 4026: 0.27273805078531216},\n",
       " 2507: {18316: 0.33327678077538553, 4026: 0.33317953394911076},\n",
       " 4026: {18316: 0.27273805078531216, 2507: 0.33317953394911076},\n",
       " 25772: {6341: 0.24998859111658836,\n",
       "  25555: 0.20465949616049253,\n",
       "  20033: 0.16755275288034804},\n",
       " 6341: {25772: 0.24998859111658836,\n",
       "  25555: 0.2499830812054097,\n",
       "  20033: 0.2046587342159378},\n",
       " 25555: {25772: 0.20465949616049253,\n",
       "  6341: 0.2499830812054097,\n",
       "  20033: 0.24998766041242207},\n",
       " 20033: {25772: 0.16755275288034804,\n",
       "  6341: 0.2046587342159378,\n",
       "  25555: 0.24998766041242207}}"
      ]
     },
     "execution_count": 6,
     "metadata": {},
     "output_type": "execute_result"
    }
   ],
   "source": [
    "# Fonction de similarité\n",
    "# Renvoie {item_id: {item_id: score de similarité, ...}, ...}\n",
    "def similarity(df, log = lambda *x: None):\n",
    "    session_item_tuple = df.groupby(\"session_id\")[\"item_id\"]\\\n",
    "                        .agg(list)\\\n",
    "                        .reset_index()[[\"session_id\", \"item_id\"]]\\\n",
    "                        .values\n",
    "    \n",
    "    sim_item = {}\n",
    "    \n",
    "    for session, items in tqdm(session_item_tuple):\n",
    "        log(\"For session\", session, \"and its items\", items)\n",
    "        \n",
    "        for i, item1 in enumerate(items):\n",
    "            log(\"   For index\", i, \"and item\", item1)\n",
    "            sim_item[item1] = sim_item.get(item1, {})\n",
    "            \n",
    "            for j, item2 in enumerate(items):\n",
    "                log(\"       For index2\", j, \"and item2\", item2)\n",
    "                if item1 != item2:\n",
    "                    sim_item[item1][item2] = sim_item[item1].get(item2, 0)\n",
    "                    log(\"            item1\", item1, \"different than item2\", item2, \"so:\")\n",
    "                    \n",
    "                    delta_index = abs(j - i)\n",
    "                    delta_time = abs(session_time_dict[session][i] - session_time_dict[session][j]) / 3600\n",
    "                    \n",
    "                    log(\"            delta_index =\", delta_index)\n",
    "                    log(\"            delta_time =\", delta_time)\n",
    "\n",
    "                    time_coeff = np.exp(- delta_time / 72)\n",
    "                    index_coeff =  np.exp(- (delta_index - 1) / 5)\n",
    "\n",
    "                    sim_item[item1][item2] += index_coeff * time_coeff/len(items)\n",
    "                    log(\"            similarity =\", sim_item[item1][item2])\n",
    "    return sim_item\n",
    "\n",
    "similarity(train_sessions[:10], print)"
   ]
  },
  {
   "cell_type": "code",
   "execution_count": 7,
   "id": "6145526c",
   "metadata": {},
   "outputs": [
    {
     "name": "stderr",
     "output_type": "stream",
     "text": [
      "100%|███████████████████████████████████████████████████████████████████████████| 1000000/1000000 [02:55<00:00, 5707.87it/s]\n"
     ]
    }
   ],
   "source": [
    "sim_item = similarity(df_train)"
   ]
  },
  {
   "cell_type": "markdown",
   "id": "4c301101-79ea-49e3-bd70-5e311da281a2",
   "metadata": {},
   "source": [
    "# Recommandations\n",
    "\n",
    "Pour générer des recommandations à une session nous calculons la somme des score de similarité des items de la session avec tous les autres items du dataset\n",
    "\n",
    "Les 100 items ayant la meilleure similarité totale avec les items de la session seront conservés\n",
    "Si nous n'obtenons pas 100 items, nous piochons parmi les 100 items les plus populaires (les plus achetés)"
   ]
  },
  {
   "cell_type": "code",
   "execution_count": 8,
   "id": "25cc9955",
   "metadata": {
    "id": "25cc9955"
   },
   "outputs": [
    {
     "data": {
      "text/plain": [
       "[8060, 26853, 19882, 8622, 2447, 4193, 20770, 18156, 17089, 1644]"
      ]
     },
     "execution_count": 8,
     "metadata": {},
     "output_type": "execute_result"
    }
   ],
   "source": [
    "popular_items = train_purchases['item_id'].value_counts().reset_index()\n",
    "popular_items = list(popular_items['index'][:100])\n",
    "popular_items[:10]"
   ]
  },
  {
   "cell_type": "code",
   "execution_count": 9,
   "id": "5d6c71a5",
   "metadata": {
    "id": "5d6c71a5"
   },
   "outputs": [],
   "source": [
    "def recommend(sim_item, popular_items, top_k, session_item_list):  \n",
    "    rank = {}\n",
    "    for i in session_item_list:\n",
    "        if i in sim_item:\n",
    "            for j, score in sorted(sim_item[i].items(), key=lambda d: d[1], reverse=True):  \n",
    "                if j not in session_item_list:  \n",
    "                    rank[j] = rank.get(j,0) + score\n",
    "                    \n",
    "    rank_list = sorted(rank.items(), key=lambda d: d[1], reverse=True)[:top_k]\n",
    "    item_list = [item for item, rank in rank_list]\n",
    "\n",
    "    index = 0\n",
    "    if len(item_list) < top_k:\n",
    "        item_list += popular_items[:top_k - len(item_list)]\n",
    "\n",
    "    return item_list"
   ]
  },
  {
   "cell_type": "markdown",
   "id": "e7d8f65d-fead-4285-8727-ff272c24aa4a",
   "metadata": {},
   "source": [
    "# Evaluation\n",
    "\n",
    "Nous évaluons la qualité de nos recommandations grâce à la *Mean Reciprocal Rank*\n",
    "\n",
    "$\\displaystyle{MRR = |Q|\\sum_i \\frac{1}{rank_i}}$\n",
    "\n",
    "nous générons des recommandation pour `train_sessions` et vérifions si nous avons prédit l'achat sur `train_purchases`.\n",
    "Etant donné que nous vérifions nos résultats sur nos données d'entraînement, cela peut entraîner des résultats hautement biaisés."
   ]
  },
  {
   "cell_type": "code",
   "execution_count": 10,
   "id": "8264eb95",
   "metadata": {},
   "outputs": [],
   "source": [
    "def mean_reciprocal_rank(df_pred, df_true):\n",
    "    mrr = 0\n",
    "    for session, item, rank in df_pred.values:\n",
    "        if len(df_true[(df_true.item_id == item) & (df_true.session_id == session)]) != 0:\n",
    "            mrr += 1/rank\n",
    "    return mrr / len(df_true)"
   ]
  },
  {
   "cell_type": "code",
   "execution_count": 11,
   "id": "1ffffdd4",
   "metadata": {},
   "outputs": [
    {
     "data": {
      "text/plain": [
       "0.1683978190475883"
      ]
     },
     "execution_count": 11,
     "metadata": {},
     "output_type": "execute_result"
    }
   ],
   "source": [
    "item_id_list = []\n",
    "\n",
    "train_sessions_dict = train_sessions.groupby(\"session_id\")[\"item_id\"].agg(list).reset_index()\n",
    "train_sessions_dict = train_sessions_dict[:100]\n",
    "\n",
    "for session_id, session_item_list in train_sessions_dict.values:\n",
    "    item_id_list += recommend(sim_item, popular_items, 100, session_item_list)\n",
    "    \n",
    "rank_list = np.resize(np.arange(1,101), len(train_sessions_dict) * 100)\n",
    "session_id_list = np.repeat(train_sessions_dict[\"session_id\"].values, 100)\n",
    "\n",
    "\n",
    "df_pred = pd.DataFrame({\"session_id\":session_id_list, \"item_id\":item_id_list, \"rank\":rank_list})\n",
    "df_true = train_purchases[np.isin(train_purchases.session_id, train_sessions_dict[\"session_id\"].values)]\n",
    "mean_reciprocal_rank(df_pred, df_true)"
   ]
  },
  {
   "cell_type": "code",
   "execution_count": 12,
   "id": "TApRDet13iDw",
   "metadata": {
    "colab": {
     "base_uri": "https://localhost:8080/"
    },
    "id": "TApRDet13iDw",
    "outputId": "ae504574-fb58-4573-8156-58dbc887175d"
   },
   "outputs": [
    {
     "name": "stderr",
     "output_type": "stream",
     "text": [
      "100%|████████████████████████████████████████████████████████████████████████████████| 50000/50000 [06:56<00:00, 120.00it/s]\n"
     ]
    },
    {
     "data": {
      "text/html": [
       "<div>\n",
       "<style scoped>\n",
       "    .dataframe tbody tr th:only-of-type {\n",
       "        vertical-align: middle;\n",
       "    }\n",
       "\n",
       "    .dataframe tbody tr th {\n",
       "        vertical-align: top;\n",
       "    }\n",
       "\n",
       "    .dataframe thead th {\n",
       "        text-align: right;\n",
       "    }\n",
       "</style>\n",
       "<table border=\"1\" class=\"dataframe\">\n",
       "  <thead>\n",
       "    <tr style=\"text-align: right;\">\n",
       "      <th></th>\n",
       "      <th>session_id</th>\n",
       "      <th>item_id</th>\n",
       "      <th>rank</th>\n",
       "    </tr>\n",
       "  </thead>\n",
       "  <tbody>\n",
       "    <tr>\n",
       "      <th>0</th>\n",
       "      <td>26</td>\n",
       "      <td>3260</td>\n",
       "      <td>1</td>\n",
       "    </tr>\n",
       "    <tr>\n",
       "      <th>1</th>\n",
       "      <td>26</td>\n",
       "      <td>5383</td>\n",
       "      <td>2</td>\n",
       "    </tr>\n",
       "    <tr>\n",
       "      <th>2</th>\n",
       "      <td>26</td>\n",
       "      <td>2213</td>\n",
       "      <td>3</td>\n",
       "    </tr>\n",
       "    <tr>\n",
       "      <th>3</th>\n",
       "      <td>26</td>\n",
       "      <td>27921</td>\n",
       "      <td>4</td>\n",
       "    </tr>\n",
       "    <tr>\n",
       "      <th>4</th>\n",
       "      <td>26</td>\n",
       "      <td>26538</td>\n",
       "      <td>5</td>\n",
       "    </tr>\n",
       "    <tr>\n",
       "      <th>...</th>\n",
       "      <td>...</td>\n",
       "      <td>...</td>\n",
       "      <td>...</td>\n",
       "    </tr>\n",
       "    <tr>\n",
       "      <th>4999995</th>\n",
       "      <td>4439757</td>\n",
       "      <td>17059</td>\n",
       "      <td>96</td>\n",
       "    </tr>\n",
       "    <tr>\n",
       "      <th>4999996</th>\n",
       "      <td>4439757</td>\n",
       "      <td>4839</td>\n",
       "      <td>97</td>\n",
       "    </tr>\n",
       "    <tr>\n",
       "      <th>4999997</th>\n",
       "      <td>4439757</td>\n",
       "      <td>107</td>\n",
       "      <td>98</td>\n",
       "    </tr>\n",
       "    <tr>\n",
       "      <th>4999998</th>\n",
       "      <td>4439757</td>\n",
       "      <td>9524</td>\n",
       "      <td>99</td>\n",
       "    </tr>\n",
       "    <tr>\n",
       "      <th>4999999</th>\n",
       "      <td>4439757</td>\n",
       "      <td>742</td>\n",
       "      <td>100</td>\n",
       "    </tr>\n",
       "  </tbody>\n",
       "</table>\n",
       "<p>5000000 rows × 3 columns</p>\n",
       "</div>"
      ],
      "text/plain": [
       "         session_id  item_id  rank\n",
       "0                26     3260     1\n",
       "1                26     5383     2\n",
       "2                26     2213     3\n",
       "3                26    27921     4\n",
       "4                26    26538     5\n",
       "...             ...      ...   ...\n",
       "4999995     4439757    17059    96\n",
       "4999996     4439757     4839    97\n",
       "4999997     4439757      107    98\n",
       "4999998     4439757     9524    99\n",
       "4999999     4439757      742   100\n",
       "\n",
       "[5000000 rows x 3 columns]"
      ]
     },
     "execution_count": 12,
     "metadata": {},
     "output_type": "execute_result"
    }
   ],
   "source": [
    "leaderboard_sessions = pd.read_csv('datasets/test_leaderboard_sessions.csv')\n",
    "\n",
    "item_id_list = []\n",
    "\n",
    "leaderboard_sessions_dict = leaderboard_sessions.groupby(\"session_id\")[\"item_id\"].agg(list).reset_index()\n",
    "leaderboard_sessions_dict = leaderboard_sessions_dict\n",
    "\n",
    "for session_id, session_item_list in tqdm(leaderboard_sessions_dict.values):\n",
    "    item_id_list += recommend(sim_item, popular_items, 100, session_item_list)\n",
    "    \n",
    "rank_list = np.resize(np.arange(1,101), len(leaderboard_sessions_dict) * 100)\n",
    "session_id_list = np.repeat(leaderboard_sessions_dict[\"session_id\"].values, 100)\n",
    "\n",
    "leaderboard = pd.DataFrame({\"session_id\":session_id_list, \"item_id\":item_id_list, \"rank\":rank_list})\n",
    "leaderboard.to_csv('leaderboard_result.csv',index=False)\n",
    "leaderboard"
   ]
  },
  {
   "cell_type": "code",
   "execution_count": null,
   "id": "29820d2c",
   "metadata": {},
   "outputs": [],
   "source": []
  }
 ],
 "metadata": {
  "@webio": {
   "lastCommId": null,
   "lastKernelId": null
  },
  "colab": {
   "collapsed_sections": [],
   "name": "recall_item_cf_loc_time.ipynb",
   "provenance": []
  },
  "kernelspec": {
   "display_name": "Python 3 (ipykernel)",
   "language": "python",
   "name": "python3"
  },
  "language_info": {
   "codemirror_mode": {
    "name": "ipython",
    "version": 3
   },
   "file_extension": ".py",
   "mimetype": "text/x-python",
   "name": "python",
   "nbconvert_exporter": "python",
   "pygments_lexer": "ipython3",
   "version": "3.10.5"
  }
 },
 "nbformat": 4,
 "nbformat_minor": 5
}
