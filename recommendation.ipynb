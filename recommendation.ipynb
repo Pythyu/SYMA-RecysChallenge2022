{
 "cells": [
  {
   "cell_type": "code",
   "execution_count": 1,
   "id": "539ab47e",
   "metadata": {
    "id": "539ab47e"
   },
   "outputs": [],
   "source": [
    "import pandas as pd\n",
    "from tqdm import tqdm\n",
    "import numpy as np"
   ]
  },
  {
   "cell_type": "markdown",
   "id": "e7a572a9",
   "metadata": {},
   "source": [
    "# Datasets\n",
    "\n",
    "Nous chargeons les datasets `train_sessions` et `train_purchases` pour entrainer les données. Nous ignorons `item_features` car les calculs de similarités relatifs aux features prennent beaucoup de temps."
   ]
  },
  {
   "cell_type": "code",
   "execution_count": 2,
   "id": "FYuiYHdlEN-V",
   "metadata": {
    "id": "FYuiYHdlEN-V"
   },
   "outputs": [],
   "source": [
    "train_sessions = pd.read_csv('datasets/train_sessions.csv')\n",
    "train_purchases = pd.read_csv('datasets/train_purchases.csv')\n",
    "df_train = pd.concat([train_sessions, train_purchases], ignore_index=True)\n",
    "item_features = pd.read_csv('datasets/item_features.csv')\n",
    "candidate_items = pd.read_csv('datasets/candidate_items.csv')[\"item_id\"]"
   ]
  },
  {
   "cell_type": "code",
   "execution_count": 3,
   "id": "Xil4XZgbEaJS",
   "metadata": {
    "colab": {
     "base_uri": "https://localhost:8080/",
     "height": 424
    },
    "id": "Xil4XZgbEaJS",
    "outputId": "800c89bc-e920-44c3-90dd-5b4675e4acf4"
   },
   "outputs": [
    {
     "data": {
      "text/html": [
       "<div>\n",
       "<style scoped>\n",
       "    .dataframe tbody tr th:only-of-type {\n",
       "        vertical-align: middle;\n",
       "    }\n",
       "\n",
       "    .dataframe tbody tr th {\n",
       "        vertical-align: top;\n",
       "    }\n",
       "\n",
       "    .dataframe thead th {\n",
       "        text-align: right;\n",
       "    }\n",
       "</style>\n",
       "<table border=\"1\" class=\"dataframe\">\n",
       "  <thead>\n",
       "    <tr style=\"text-align: right;\">\n",
       "      <th></th>\n",
       "      <th>session_id</th>\n",
       "      <th>item_id</th>\n",
       "      <th>date</th>\n",
       "    </tr>\n",
       "  </thead>\n",
       "  <tbody>\n",
       "    <tr>\n",
       "      <th>0</th>\n",
       "      <td>3</td>\n",
       "      <td>9655</td>\n",
       "      <td>2020-12-18 21:25:00.373</td>\n",
       "    </tr>\n",
       "    <tr>\n",
       "      <th>1</th>\n",
       "      <td>3</td>\n",
       "      <td>9655</td>\n",
       "      <td>2020-12-18 21:19:48.093</td>\n",
       "    </tr>\n",
       "    <tr>\n",
       "      <th>2</th>\n",
       "      <td>13</td>\n",
       "      <td>15654</td>\n",
       "      <td>2020-03-13 19:35:27.136</td>\n",
       "    </tr>\n",
       "    <tr>\n",
       "      <th>3</th>\n",
       "      <td>18</td>\n",
       "      <td>18316</td>\n",
       "      <td>2020-08-26 19:18:30.833</td>\n",
       "    </tr>\n",
       "    <tr>\n",
       "      <th>4</th>\n",
       "      <td>18</td>\n",
       "      <td>2507</td>\n",
       "      <td>2020-08-26 19:16:31.211</td>\n",
       "    </tr>\n",
       "    <tr>\n",
       "      <th>...</th>\n",
       "      <td>...</td>\n",
       "      <td>...</td>\n",
       "      <td>...</td>\n",
       "    </tr>\n",
       "    <tr>\n",
       "      <th>5743815</th>\n",
       "      <td>4439986</td>\n",
       "      <td>2915</td>\n",
       "      <td>2021-05-13 11:56:37.464</td>\n",
       "    </tr>\n",
       "    <tr>\n",
       "      <th>5743816</th>\n",
       "      <td>4439990</td>\n",
       "      <td>8786</td>\n",
       "      <td>2020-08-22 14:28:22.382</td>\n",
       "    </tr>\n",
       "    <tr>\n",
       "      <th>5743817</th>\n",
       "      <td>4439994</td>\n",
       "      <td>21630</td>\n",
       "      <td>2020-11-27 20:10:28.961</td>\n",
       "    </tr>\n",
       "    <tr>\n",
       "      <th>5743818</th>\n",
       "      <td>4439999</td>\n",
       "      <td>16962</td>\n",
       "      <td>2020-11-27 11:01:41.356</td>\n",
       "    </tr>\n",
       "    <tr>\n",
       "      <th>5743819</th>\n",
       "      <td>4440001</td>\n",
       "      <td>16631</td>\n",
       "      <td>2020-10-30 23:46:05.218</td>\n",
       "    </tr>\n",
       "  </tbody>\n",
       "</table>\n",
       "<p>5743820 rows × 3 columns</p>\n",
       "</div>"
      ],
      "text/plain": [
       "         session_id  item_id                     date\n",
       "0                 3     9655  2020-12-18 21:25:00.373\n",
       "1                 3     9655  2020-12-18 21:19:48.093\n",
       "2                13    15654  2020-03-13 19:35:27.136\n",
       "3                18    18316  2020-08-26 19:18:30.833\n",
       "4                18     2507  2020-08-26 19:16:31.211\n",
       "...             ...      ...                      ...\n",
       "5743815     4439986     2915  2021-05-13 11:56:37.464\n",
       "5743816     4439990     8786  2020-08-22 14:28:22.382\n",
       "5743817     4439994    21630  2020-11-27 20:10:28.961\n",
       "5743818     4439999    16962  2020-11-27 11:01:41.356\n",
       "5743819     4440001    16631  2020-10-30 23:46:05.218\n",
       "\n",
       "[5743820 rows x 3 columns]"
      ]
     },
     "execution_count": 3,
     "metadata": {},
     "output_type": "execute_result"
    }
   ],
   "source": [
    "df_train"
   ]
  },
  {
   "cell_type": "code",
   "execution_count": 4,
   "id": "0f9aaa54",
   "metadata": {},
   "outputs": [
    {
     "data": {
      "text/html": [
       "<div>\n",
       "<style scoped>\n",
       "    .dataframe tbody tr th:only-of-type {\n",
       "        vertical-align: middle;\n",
       "    }\n",
       "\n",
       "    .dataframe tbody tr th {\n",
       "        vertical-align: top;\n",
       "    }\n",
       "\n",
       "    .dataframe thead th {\n",
       "        text-align: right;\n",
       "    }\n",
       "</style>\n",
       "<table border=\"1\" class=\"dataframe\">\n",
       "  <thead>\n",
       "    <tr style=\"text-align: right;\">\n",
       "      <th></th>\n",
       "      <th>item_id</th>\n",
       "      <th>feature_category_id</th>\n",
       "      <th>feature_value_id</th>\n",
       "    </tr>\n",
       "  </thead>\n",
       "  <tbody>\n",
       "    <tr>\n",
       "      <th>0</th>\n",
       "      <td>2</td>\n",
       "      <td>56</td>\n",
       "      <td>365</td>\n",
       "    </tr>\n",
       "    <tr>\n",
       "      <th>1</th>\n",
       "      <td>2</td>\n",
       "      <td>62</td>\n",
       "      <td>801</td>\n",
       "    </tr>\n",
       "    <tr>\n",
       "      <th>2</th>\n",
       "      <td>2</td>\n",
       "      <td>68</td>\n",
       "      <td>351</td>\n",
       "    </tr>\n",
       "    <tr>\n",
       "      <th>3</th>\n",
       "      <td>2</td>\n",
       "      <td>33</td>\n",
       "      <td>802</td>\n",
       "    </tr>\n",
       "    <tr>\n",
       "      <th>4</th>\n",
       "      <td>2</td>\n",
       "      <td>72</td>\n",
       "      <td>75</td>\n",
       "    </tr>\n",
       "    <tr>\n",
       "      <th>...</th>\n",
       "      <td>...</td>\n",
       "      <td>...</td>\n",
       "      <td>...</td>\n",
       "    </tr>\n",
       "    <tr>\n",
       "      <th>471746</th>\n",
       "      <td>28143</td>\n",
       "      <td>68</td>\n",
       "      <td>351</td>\n",
       "    </tr>\n",
       "    <tr>\n",
       "      <th>471747</th>\n",
       "      <td>28143</td>\n",
       "      <td>55</td>\n",
       "      <td>390</td>\n",
       "    </tr>\n",
       "    <tr>\n",
       "      <th>471748</th>\n",
       "      <td>28143</td>\n",
       "      <td>11</td>\n",
       "      <td>109</td>\n",
       "    </tr>\n",
       "    <tr>\n",
       "      <th>471749</th>\n",
       "      <td>28143</td>\n",
       "      <td>73</td>\n",
       "      <td>91</td>\n",
       "    </tr>\n",
       "    <tr>\n",
       "      <th>471750</th>\n",
       "      <td>28143</td>\n",
       "      <td>47</td>\n",
       "      <td>549</td>\n",
       "    </tr>\n",
       "  </tbody>\n",
       "</table>\n",
       "<p>471751 rows × 3 columns</p>\n",
       "</div>"
      ],
      "text/plain": [
       "        item_id  feature_category_id  feature_value_id\n",
       "0             2                   56               365\n",
       "1             2                   62               801\n",
       "2             2                   68               351\n",
       "3             2                   33               802\n",
       "4             2                   72                75\n",
       "...         ...                  ...               ...\n",
       "471746    28143                   68               351\n",
       "471747    28143                   55               390\n",
       "471748    28143                   11               109\n",
       "471749    28143                   73                91\n",
       "471750    28143                   47               549\n",
       "\n",
       "[471751 rows x 3 columns]"
      ]
     },
     "execution_count": 4,
     "metadata": {},
     "output_type": "execute_result"
    }
   ],
   "source": [
    "item_features"
   ]
  },
  {
   "cell_type": "code",
   "execution_count": 5,
   "id": "53b50d46",
   "metadata": {},
   "outputs": [
    {
     "data": {
      "text/plain": [
       "0           4\n",
       "1           8\n",
       "2           9\n",
       "3          19\n",
       "4          20\n",
       "        ...  \n",
       "4985    28128\n",
       "4986    28131\n",
       "4987    28132\n",
       "4988    28133\n",
       "4989    28137\n",
       "Name: item_id, Length: 4990, dtype: int64"
      ]
     },
     "execution_count": 5,
     "metadata": {},
     "output_type": "execute_result"
    }
   ],
   "source": [
    "candidate_items"
   ]
  },
  {
   "cell_type": "markdown",
   "id": "15009b5d-451e-4955-bfec-581b7d126964",
   "metadata": {},
   "source": [
    "# Preprocessing\n",
    "\n",
    "Ici nous tranformons les dates en timestamp unix pour pouvoir plus tard calculer des différences de temps."
   ]
  },
  {
   "cell_type": "code",
   "execution_count": 6,
   "id": "UgiPTgQdEl6n",
   "metadata": {
    "colab": {
     "base_uri": "https://localhost:8080/"
    },
    "id": "UgiPTgQdEl6n",
    "outputId": "6db458df-8b84-4c90-c260-80eb39958888"
   },
   "outputs": [
    {
     "data": {
      "text/html": [
       "<div>\n",
       "<style scoped>\n",
       "    .dataframe tbody tr th:only-of-type {\n",
       "        vertical-align: middle;\n",
       "    }\n",
       "\n",
       "    .dataframe tbody tr th {\n",
       "        vertical-align: top;\n",
       "    }\n",
       "\n",
       "    .dataframe thead th {\n",
       "        text-align: right;\n",
       "    }\n",
       "</style>\n",
       "<table border=\"1\" class=\"dataframe\">\n",
       "  <thead>\n",
       "    <tr style=\"text-align: right;\">\n",
       "      <th></th>\n",
       "      <th>session_id</th>\n",
       "      <th>item_id</th>\n",
       "      <th>date</th>\n",
       "      <th>ts</th>\n",
       "    </tr>\n",
       "  </thead>\n",
       "  <tbody>\n",
       "    <tr>\n",
       "      <th>1</th>\n",
       "      <td>3</td>\n",
       "      <td>9655</td>\n",
       "      <td>2020-12-18 21:19:48.093</td>\n",
       "      <td>1.608326e+09</td>\n",
       "    </tr>\n",
       "    <tr>\n",
       "      <th>0</th>\n",
       "      <td>3</td>\n",
       "      <td>9655</td>\n",
       "      <td>2020-12-18 21:25:00.373</td>\n",
       "      <td>1.608327e+09</td>\n",
       "    </tr>\n",
       "    <tr>\n",
       "      <th>4743820</th>\n",
       "      <td>3</td>\n",
       "      <td>15085</td>\n",
       "      <td>2020-12-18 21:26:47.986</td>\n",
       "      <td>1.608327e+09</td>\n",
       "    </tr>\n",
       "    <tr>\n",
       "      <th>2</th>\n",
       "      <td>13</td>\n",
       "      <td>15654</td>\n",
       "      <td>2020-03-13 19:35:27.136</td>\n",
       "      <td>1.584128e+09</td>\n",
       "    </tr>\n",
       "    <tr>\n",
       "      <th>4743821</th>\n",
       "      <td>13</td>\n",
       "      <td>18626</td>\n",
       "      <td>2020-03-13 19:36:15.507</td>\n",
       "      <td>1.584128e+09</td>\n",
       "    </tr>\n",
       "  </tbody>\n",
       "</table>\n",
       "</div>"
      ],
      "text/plain": [
       "         session_id  item_id                     date            ts\n",
       "1                 3     9655  2020-12-18 21:19:48.093  1.608326e+09\n",
       "0                 3     9655  2020-12-18 21:25:00.373  1.608327e+09\n",
       "4743820           3    15085  2020-12-18 21:26:47.986  1.608327e+09\n",
       "2                13    15654  2020-03-13 19:35:27.136  1.584128e+09\n",
       "4743821          13    18626  2020-03-13 19:36:15.507  1.584128e+09"
      ]
     },
     "execution_count": 6,
     "metadata": {},
     "output_type": "execute_result"
    }
   ],
   "source": [
    "df_train[\"ts\"] = pd.to_datetime(df_train.date).astype(\"int64\") / 1E9 # timestamp en secondes\n",
    "df_train = df_train.sort_values(by = [\"session_id\", \"ts\"], ascending = True)\n",
    "df_train.head()"
   ]
  },
  {
   "cell_type": "markdown",
   "id": "f8b033c3-6e12-4504-8b18-1e33bb442743",
   "metadata": {},
   "source": [
    "Ici nous préparons les datasets de manière à optimiser les étapes de calcul de similarité."
   ]
  },
  {
   "cell_type": "code",
   "execution_count": 7,
   "id": "2a987d3a-4c34-4600-b2c6-3f6e10b76497",
   "metadata": {},
   "outputs": [],
   "source": [
    "train_purchases['ts'] = pd.to_datetime(train_purchases.date).astype('int64') / 1E9\n",
    "session_time = df_train.groupby(\"session_id\")[\"ts\"].agg(list).reset_index()\n",
    "session_time_dict = session_time.set_index(\"session_id\")[\"ts\"].to_dict()\n",
    "features_dict = item_features.groupby(\"item_id\")[[\"feature_category_id\", \"feature_value_id\"]]\\\n",
    "                   .agg(list)\\\n",
    "                   .apply(lambda x: dict(zip(x.feature_category_id, x.feature_value_id)), axis=1).to_dict()"
   ]
  },
  {
   "cell_type": "markdown",
   "id": "2e69a0e2-c826-40ac-9c1f-9ff27db6c79c",
   "metadata": {},
   "source": [
    "# Fonction de similarité\n",
    "\n",
    "Nous choisissons de définir un score de similarité pour chaque couple d'items\n",
    "\n",
    "Pour chaque couple d'item $(i,j)$ dans chaque session $s$ nous calculons le score de la sorte\n",
    "\n",
    "$\\displaystyle{score_{ij} = ( \\sum_s {\\exp (- (\\varphi_1( \\Delta T ) + \\varphi_2 (\\Delta items) ) ) \\over |s|}} ) * feature\\_sim(i,j)$\n",
    "\n",
    "Avec $\\varphi_1$ et $\\varphi_2$ des applications linéaires arbitraires définies manuellement pour pondérer l'influence $\\Delta T$ (distance temporelle) et $\\Delta items$ (distance en quantité d'items qui les séparent dans la session $s$)\n",
    "\n",
    "$|s|$ étant la taille de la session et $feature\\_sim$ étant la similarité dans les caractéristiques des items.\n"
   ]
  },
  {
   "cell_type": "code",
   "execution_count": 8,
   "id": "d5253264",
   "metadata": {},
   "outputs": [],
   "source": [
    "def feature_similarity(item1, item2):\n",
    "    score = 1\n",
    "    for feature in features_dict[item1]:\n",
    "        if feature in features_dict[item2]:\n",
    "            score *= 1.2\n",
    "            if features_dict[item2][feature] == features_dict[item2][feature]:\n",
    "                score *= 1.5\n",
    "    return score"
   ]
  },
  {
   "cell_type": "code",
   "execution_count": 9,
   "id": "564coUGJ2ma2",
   "metadata": {
    "id": "564coUGJ2ma2",
    "scrolled": true
   },
   "outputs": [],
   "source": [
    "# Fonction de similarité\n",
    "# Renvoie {item_id: {item_id: score de similarité, ...}, ...}\n",
    "def similarity(df, log = lambda *x: None):\n",
    "    session_item_tuple = df.groupby(\"session_id\")[\"item_id\"]\\\n",
    "                        .agg(list)\\\n",
    "                        .reset_index()[[\"session_id\", \"item_id\"]]\\\n",
    "                        .values\n",
    "    \n",
    "    sim_item = {}\n",
    "    \n",
    "    for session, items in tqdm(session_item_tuple):\n",
    "        log(\"For session\", session, \"and its items\", items)\n",
    "        \n",
    "        for i, item1 in enumerate(items):\n",
    "            log(\"   For index\", i, \"and item\", item1)\n",
    "            sim_item[item1] = sim_item.get(item1, {})\n",
    "            \n",
    "            for j, item2 in enumerate(items):\n",
    "                log(\"       For index2\", j, \"and item2\", item2)\n",
    "                if item1 != item2:\n",
    "                    sim_item[item1][item2] = sim_item[item1].get(item2, 0)\n",
    "                    log(\"            item1\", item1, \"different than item2\", item2, \"so:\")\n",
    "                    \n",
    "                    delta_index = abs(j - i)\n",
    "                    delta_time = abs(session_time_dict[session][i] - session_time_dict[session][j]) / 3600\n",
    "                    \n",
    "                    log(\"            delta_index =\", delta_index)\n",
    "                    log(\"            delta_time =\", delta_time)\n",
    "\n",
    "                    time_coeff = np.exp(- delta_time / 72)\n",
    "                    index_coeff =  np.exp(- (delta_index - 1) / 5)\n",
    "\n",
    "                    sim_item[item1][item2] += index_coeff * time_coeff/len(items)\n",
    "                    log(\"            similarity =\", sim_item[item1][item2])\n",
    "    \n",
    "    for item1 in tqdm(candidate_items.values):\n",
    "        sim_item[item1] = sim_item.get(item1, {})\n",
    "        for item2 in candidate_items.values:\n",
    "            if item1 != item2:\n",
    "                if item2 in sim_item[item1]:\n",
    "                    sim_item[item1][item2] = sim_item[item1].get(item2, 1) * feature_similarity(item1, item2)\n",
    "    \n",
    "    return sim_item\n",
    "\n",
    "#similarity(train_sessions[:10], print)"
   ]
  },
  {
   "cell_type": "code",
   "execution_count": 10,
   "id": "6145526c",
   "metadata": {},
   "outputs": [
    {
     "name": "stderr",
     "output_type": "stream",
     "text": [
      "100%|███████████████████████████████████████████████████████████████████████████| 1000000/1000000 [02:46<00:00, 5988.89it/s]\n",
      "100%|███████████████████████████████████████████████████████████████████████████████████| 4990/4990 [01:00<00:00, 82.68it/s]\n"
     ]
    }
   ],
   "source": [
    "sim_item = similarity(df_train)"
   ]
  },
  {
   "cell_type": "markdown",
   "id": "4c301101-79ea-49e3-bd70-5e311da281a2",
   "metadata": {},
   "source": [
    "# Recommandations\n",
    "\n",
    "Pour générer des recommandations à une session nous calculons la somme des score de similarité des items de la session avec tous les autres items du dataset\n",
    "\n",
    "Les 100 items ayant la meilleure similarité totale avec les items de la session seront conservés\n",
    "Si nous n'obtenons pas 100 items, nous piochons parmi les 100 items les plus populaires (les plus achetés)"
   ]
  },
  {
   "cell_type": "code",
   "execution_count": 11,
   "id": "25cc9955",
   "metadata": {
    "id": "25cc9955"
   },
   "outputs": [
    {
     "data": {
      "text/plain": [
       "[8060, 26853, 19882, 8622, 2447, 4193, 20770, 18156, 17089, 1644]"
      ]
     },
     "execution_count": 11,
     "metadata": {},
     "output_type": "execute_result"
    }
   ],
   "source": [
    "popular_items = train_purchases['item_id'].value_counts().reset_index()\n",
    "popular_items = list(popular_items['index'][:100])\n",
    "popular_items[:10]"
   ]
  },
  {
   "cell_type": "code",
   "execution_count": 12,
   "id": "5d6c71a5",
   "metadata": {
    "id": "5d6c71a5"
   },
   "outputs": [],
   "source": [
    "def recommend(sim_item, popular_items, top_k, session_item_list):  \n",
    "    rank = {}\n",
    "    for i in session_item_list:\n",
    "        if i in sim_item:\n",
    "            for j, score in sorted(sim_item[i].items(), key=lambda d: d[1], reverse=True):  \n",
    "                if j not in session_item_list:  \n",
    "                    rank[j] = rank.get(j,0) + score\n",
    "                    \n",
    "    rank_list = sorted(rank.items(), key=lambda d: d[1], reverse=True)[:top_k]\n",
    "    item_list = [item for item, rank in rank_list]\n",
    "\n",
    "    index = 0\n",
    "    if len(item_list) < top_k:\n",
    "        item_list += popular_items[:top_k - len(item_list)]\n",
    "\n",
    "    return item_list"
   ]
  },
  {
   "cell_type": "markdown",
   "id": "e7d8f65d-fead-4285-8727-ff272c24aa4a",
   "metadata": {},
   "source": [
    "# Evaluation\n",
    "\n",
    "Nous évaluons la qualité de nos recommandations grâce à la *Mean Reciprocal Rank*\n",
    "\n",
    "$\\displaystyle{MRR = |Q|\\sum_i \\frac{1}{rank_i}}$\n",
    "\n",
    "nous générons des recommandation pour `train_sessions` et vérifions si nous avons prédit l'achat sur `train_purchases`.\n",
    "Etant donné que nous vérifions nos résultats sur nos données d'entraînement, cela peut entraîner des résultats hautement biaisés."
   ]
  },
  {
   "cell_type": "code",
   "execution_count": 13,
   "id": "8264eb95",
   "metadata": {},
   "outputs": [],
   "source": [
    "def mean_reciprocal_rank(df_pred, df_true):\n",
    "    mrr = 0\n",
    "    for session, item, rank in df_pred.values:\n",
    "        if len(df_true[(df_true.item_id == item) & (df_true.session_id == session)]) != 0:\n",
    "            mrr += 1/rank\n",
    "    return mrr / len(df_true)"
   ]
  },
  {
   "cell_type": "code",
   "execution_count": 14,
   "id": "1ffffdd4",
   "metadata": {},
   "outputs": [
    {
     "data": {
      "text/plain": [
       "0.17164886091715956"
      ]
     },
     "execution_count": 14,
     "metadata": {},
     "output_type": "execute_result"
    }
   ],
   "source": [
    "item_id_list = []\n",
    "\n",
    "train_sessions_dict = train_sessions.groupby(\"session_id\")[\"item_id\"].agg(list).reset_index()\n",
    "train_sessions_dict = train_sessions_dict[:100]\n",
    "\n",
    "for session_id, session_item_list in train_sessions_dict.values:\n",
    "    item_id_list += recommend(sim_item, popular_items, 100, session_item_list)\n",
    "    \n",
    "rank_list = np.resize(np.arange(1,101), len(train_sessions_dict) * 100)\n",
    "session_id_list = np.repeat(train_sessions_dict[\"session_id\"].values, 100)\n",
    "\n",
    "\n",
    "df_pred = pd.DataFrame({\"session_id\":session_id_list, \"item_id\":item_id_list, \"rank\":rank_list})\n",
    "df_true = train_purchases[np.isin(train_purchases.session_id, train_sessions_dict[\"session_id\"].values)]\n",
    "mean_reciprocal_rank(df_pred, df_true)"
   ]
  },
  {
   "cell_type": "code",
   "execution_count": 15,
   "id": "TApRDet13iDw",
   "metadata": {
    "colab": {
     "base_uri": "https://localhost:8080/"
    },
    "id": "TApRDet13iDw",
    "outputId": "ae504574-fb58-4573-8156-58dbc887175d"
   },
   "outputs": [
    {
     "name": "stderr",
     "output_type": "stream",
     "text": [
      "100%|████████████████████████████████████████████████████████████████████████████████| 50000/50000 [06:08<00:00, 135.60it/s]\n"
     ]
    },
    {
     "data": {
      "text/html": [
       "<div>\n",
       "<style scoped>\n",
       "    .dataframe tbody tr th:only-of-type {\n",
       "        vertical-align: middle;\n",
       "    }\n",
       "\n",
       "    .dataframe tbody tr th {\n",
       "        vertical-align: top;\n",
       "    }\n",
       "\n",
       "    .dataframe thead th {\n",
       "        text-align: right;\n",
       "    }\n",
       "</style>\n",
       "<table border=\"1\" class=\"dataframe\">\n",
       "  <thead>\n",
       "    <tr style=\"text-align: right;\">\n",
       "      <th></th>\n",
       "      <th>session_id</th>\n",
       "      <th>item_id</th>\n",
       "      <th>rank</th>\n",
       "    </tr>\n",
       "  </thead>\n",
       "  <tbody>\n",
       "    <tr>\n",
       "      <th>0</th>\n",
       "      <td>26</td>\n",
       "      <td>3260</td>\n",
       "      <td>1</td>\n",
       "    </tr>\n",
       "    <tr>\n",
       "      <th>1</th>\n",
       "      <td>26</td>\n",
       "      <td>5383</td>\n",
       "      <td>2</td>\n",
       "    </tr>\n",
       "    <tr>\n",
       "      <th>2</th>\n",
       "      <td>26</td>\n",
       "      <td>2213</td>\n",
       "      <td>3</td>\n",
       "    </tr>\n",
       "    <tr>\n",
       "      <th>3</th>\n",
       "      <td>26</td>\n",
       "      <td>27921</td>\n",
       "      <td>4</td>\n",
       "    </tr>\n",
       "    <tr>\n",
       "      <th>4</th>\n",
       "      <td>26</td>\n",
       "      <td>26538</td>\n",
       "      <td>5</td>\n",
       "    </tr>\n",
       "    <tr>\n",
       "      <th>...</th>\n",
       "      <td>...</td>\n",
       "      <td>...</td>\n",
       "      <td>...</td>\n",
       "    </tr>\n",
       "    <tr>\n",
       "      <th>4999995</th>\n",
       "      <td>4439757</td>\n",
       "      <td>19170</td>\n",
       "      <td>96</td>\n",
       "    </tr>\n",
       "    <tr>\n",
       "      <th>4999996</th>\n",
       "      <td>4439757</td>\n",
       "      <td>7237</td>\n",
       "      <td>97</td>\n",
       "    </tr>\n",
       "    <tr>\n",
       "      <th>4999997</th>\n",
       "      <td>4439757</td>\n",
       "      <td>16097</td>\n",
       "      <td>98</td>\n",
       "    </tr>\n",
       "    <tr>\n",
       "      <th>4999998</th>\n",
       "      <td>4439757</td>\n",
       "      <td>24931</td>\n",
       "      <td>99</td>\n",
       "    </tr>\n",
       "    <tr>\n",
       "      <th>4999999</th>\n",
       "      <td>4439757</td>\n",
       "      <td>18451</td>\n",
       "      <td>100</td>\n",
       "    </tr>\n",
       "  </tbody>\n",
       "</table>\n",
       "<p>5000000 rows × 3 columns</p>\n",
       "</div>"
      ],
      "text/plain": [
       "         session_id  item_id  rank\n",
       "0                26     3260     1\n",
       "1                26     5383     2\n",
       "2                26     2213     3\n",
       "3                26    27921     4\n",
       "4                26    26538     5\n",
       "...             ...      ...   ...\n",
       "4999995     4439757    19170    96\n",
       "4999996     4439757     7237    97\n",
       "4999997     4439757    16097    98\n",
       "4999998     4439757    24931    99\n",
       "4999999     4439757    18451   100\n",
       "\n",
       "[5000000 rows x 3 columns]"
      ]
     },
     "execution_count": 15,
     "metadata": {},
     "output_type": "execute_result"
    }
   ],
   "source": [
    "leaderboard_sessions = pd.read_csv('datasets/test_leaderboard_sessions.csv')\n",
    "\n",
    "item_id_list = []\n",
    "\n",
    "leaderboard_sessions_dict = leaderboard_sessions.groupby(\"session_id\")[\"item_id\"].agg(list).reset_index()\n",
    "leaderboard_sessions_dict = leaderboard_sessions_dict\n",
    "\n",
    "for session_id, session_item_list in tqdm(leaderboard_sessions_dict.values):\n",
    "    item_id_list += recommend(sim_item, popular_items, 100, session_item_list)\n",
    "    \n",
    "rank_list = np.resize(np.arange(1,101), len(leaderboard_sessions_dict) * 100)\n",
    "session_id_list = np.repeat(leaderboard_sessions_dict[\"session_id\"].values, 100)\n",
    "\n",
    "leaderboard = pd.DataFrame({\"session_id\":session_id_list, \"item_id\":item_id_list, \"rank\":rank_list})\n",
    "leaderboard.to_csv('leaderboard_result.csv',index=False)\n",
    "leaderboard"
   ]
  },
  {
   "cell_type": "code",
   "execution_count": null,
   "id": "29820d2c",
   "metadata": {},
   "outputs": [],
   "source": []
  }
 ],
 "metadata": {
  "@webio": {
   "lastCommId": null,
   "lastKernelId": null
  },
  "colab": {
   "collapsed_sections": [],
   "name": "recall_item_cf_loc_time.ipynb",
   "provenance": []
  },
  "kernelspec": {
   "display_name": "Python 3 (ipykernel)",
   "language": "python",
   "name": "python3"
  },
  "language_info": {
   "codemirror_mode": {
    "name": "ipython",
    "version": 3
   },
   "file_extension": ".py",
   "mimetype": "text/x-python",
   "name": "python",
   "nbconvert_exporter": "python",
   "pygments_lexer": "ipython3",
   "version": "3.10.5"
  }
 },
 "nbformat": 4,
 "nbformat_minor": 5
}
