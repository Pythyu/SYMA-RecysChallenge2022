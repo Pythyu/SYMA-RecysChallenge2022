{
 "cells": [
  {
   "cell_type": "code",
   "execution_count": 1,
   "id": "539ab47e",
   "metadata": {
    "id": "539ab47e"
   },
   "outputs": [],
   "source": [
    "import pandas as pd\n",
    "\n",
    "from tqdm import tqdm\n",
    "\n",
    "from collections import defaultdict\n",
    "\n",
    "import numpy as np"
   ]
  },
  {
   "cell_type": "code",
   "execution_count": 2,
   "id": "FYuiYHdlEN-V",
   "metadata": {
    "id": "FYuiYHdlEN-V"
   },
   "outputs": [],
   "source": [
    "train_sessions = pd.read_csv('datasets/train_sessions.csv')\n",
    "train_purchases = pd.read_csv('datasets/train_purchases.csv')\n",
    "test_sessions = pd.read_csv('datasets/test_leaderboard_sessions.csv')\n",
    "test_leaderboard = pd.read_csv('datasets/test_final_sessions.csv')"
   ]
  },
  {
   "cell_type": "code",
   "execution_count": 3,
   "id": "c0V7UXqGETv_",
   "metadata": {
    "id": "c0V7UXqGETv_"
   },
   "outputs": [],
   "source": [
    "train_sessions = pd.concat([train_sessions,train_purchases,test_sessions,test_leaderboard], ignore_index=True)"
   ]
  },
  {
   "cell_type": "code",
   "execution_count": 4,
   "id": "Xil4XZgbEaJS",
   "metadata": {
    "colab": {
     "base_uri": "https://localhost:8080/",
     "height": 424
    },
    "id": "Xil4XZgbEaJS",
    "outputId": "800c89bc-e920-44c3-90dd-5b4675e4acf4"
   },
   "outputs": [
    {
     "data": {
      "text/html": [
       "<div>\n",
       "<style scoped>\n",
       "    .dataframe tbody tr th:only-of-type {\n",
       "        vertical-align: middle;\n",
       "    }\n",
       "\n",
       "    .dataframe tbody tr th {\n",
       "        vertical-align: top;\n",
       "    }\n",
       "\n",
       "    .dataframe thead th {\n",
       "        text-align: right;\n",
       "    }\n",
       "</style>\n",
       "<table border=\"1\" class=\"dataframe\">\n",
       "  <thead>\n",
       "    <tr style=\"text-align: right;\">\n",
       "      <th></th>\n",
       "      <th>session_id</th>\n",
       "      <th>item_id</th>\n",
       "      <th>date</th>\n",
       "    </tr>\n",
       "  </thead>\n",
       "  <tbody>\n",
       "    <tr>\n",
       "      <th>0</th>\n",
       "      <td>3</td>\n",
       "      <td>9655</td>\n",
       "      <td>2020-12-18 21:25:00.373</td>\n",
       "    </tr>\n",
       "    <tr>\n",
       "      <th>1</th>\n",
       "      <td>3</td>\n",
       "      <td>9655</td>\n",
       "      <td>2020-12-18 21:19:48.093</td>\n",
       "    </tr>\n",
       "    <tr>\n",
       "      <th>2</th>\n",
       "      <td>13</td>\n",
       "      <td>15654</td>\n",
       "      <td>2020-03-13 19:35:27.136</td>\n",
       "    </tr>\n",
       "    <tr>\n",
       "      <th>3</th>\n",
       "      <td>18</td>\n",
       "      <td>18316</td>\n",
       "      <td>2020-08-26 19:18:30.833</td>\n",
       "    </tr>\n",
       "    <tr>\n",
       "      <th>4</th>\n",
       "      <td>18</td>\n",
       "      <td>2507</td>\n",
       "      <td>2020-08-26 19:16:31.211</td>\n",
       "    </tr>\n",
       "    <tr>\n",
       "      <th>...</th>\n",
       "      <td>...</td>\n",
       "      <td>...</td>\n",
       "      <td>...</td>\n",
       "    </tr>\n",
       "    <tr>\n",
       "      <th>6199307</th>\n",
       "      <td>4439648</td>\n",
       "      <td>7154</td>\n",
       "      <td>2021-06-14 08:03:19.024</td>\n",
       "    </tr>\n",
       "    <tr>\n",
       "      <th>6199308</th>\n",
       "      <td>4439675</td>\n",
       "      <td>23067</td>\n",
       "      <td>2021-06-01 12:21:07.959</td>\n",
       "    </tr>\n",
       "    <tr>\n",
       "      <th>6199309</th>\n",
       "      <td>4439868</td>\n",
       "      <td>26085</td>\n",
       "      <td>2021-06-16 22:18:27.509</td>\n",
       "    </tr>\n",
       "    <tr>\n",
       "      <th>6199310</th>\n",
       "      <td>4439966</td>\n",
       "      <td>19483</td>\n",
       "      <td>2021-06-06 20:05:06.457</td>\n",
       "    </tr>\n",
       "    <tr>\n",
       "      <th>6199311</th>\n",
       "      <td>4439966</td>\n",
       "      <td>20782</td>\n",
       "      <td>2021-06-06 20:06:47.779</td>\n",
       "    </tr>\n",
       "  </tbody>\n",
       "</table>\n",
       "<p>6199312 rows × 3 columns</p>\n",
       "</div>"
      ],
      "text/plain": [
       "         session_id  item_id                     date\n",
       "0                 3     9655  2020-12-18 21:25:00.373\n",
       "1                 3     9655  2020-12-18 21:19:48.093\n",
       "2                13    15654  2020-03-13 19:35:27.136\n",
       "3                18    18316  2020-08-26 19:18:30.833\n",
       "4                18     2507  2020-08-26 19:16:31.211\n",
       "...             ...      ...                      ...\n",
       "6199307     4439648     7154  2021-06-14 08:03:19.024\n",
       "6199308     4439675    23067  2021-06-01 12:21:07.959\n",
       "6199309     4439868    26085  2021-06-16 22:18:27.509\n",
       "6199310     4439966    19483  2021-06-06 20:05:06.457\n",
       "6199311     4439966    20782  2021-06-06 20:06:47.779\n",
       "\n",
       "[6199312 rows x 3 columns]"
      ]
     },
     "execution_count": 4,
     "metadata": {},
     "output_type": "execute_result"
    }
   ],
   "source": [
    "train_sessions"
   ]
  },
  {
   "cell_type": "code",
   "execution_count": 6,
   "id": "UgiPTgQdEl6n",
   "metadata": {
    "colab": {
     "base_uri": "https://localhost:8080/"
    },
    "id": "UgiPTgQdEl6n",
    "outputId": "6db458df-8b84-4c90-c260-80eb39958888"
   },
   "outputs": [],
   "source": [
    "train_sessions['ts'] = pd.to_datetime(train_sessions.date).astype('int64') / 1000\n",
    "train_sessions = train_sessions.sort_values(by = ['session_id','ts'], ascending = True)"
   ]
  },
  {
   "cell_type": "code",
   "execution_count": 7,
   "id": "564coUGJ2ma2",
   "metadata": {
    "id": "564coUGJ2ma2"
   },
   "outputs": [
    {
     "name": "stderr",
     "output_type": "stream",
     "text": [
      "100%|███████████████████████████████████████████████████████████████████████████| 1100000/1100000 [02:56<00:00, 6220.03it/s]\n"
     ]
    }
   ],
   "source": [
    "#Recall function\n",
    "def get_sim2(df, user_col, item_col,alpha):\n",
    "    user_item = df.groupby(\"session_id\")[item_col].agg(list).reset_index()\n",
    "    user_item_dict = user_item[[user_col, item_col]].values\n",
    "    user_time = df.groupby(\"session_id\")['ts'].agg(list).reset_index()\n",
    "    user_time_dict = dict(user_time.set_index(\"session_id\")[\"ts\"])\n",
    "    \n",
    "    sim_item_corr = {}\n",
    "    item_cnt = defaultdict(int)\n",
    "    three_days = 3600 * 24 * 3\n",
    "    \n",
    "    for user, items in tqdm(user_item_dict):\n",
    "        for loc1, item in enumerate(items):\n",
    "            item_cnt[item] += 1\n",
    "            sim_item.setdefault(item, {})\n",
    "            for loc2, relate_item in enumerate(items):\n",
    "                if item != relate_item:\n",
    "                    t1 = user_time_dict[user][loc1] #time\n",
    "                    t2 = user_time_dict[user][loc2] #time\n",
    "\n",
    "                    loc_alpha = 1.0 if loc2 > loc1 else 0.7\n",
    "                    loc_weight = loc_alpha * (0.8**(abs(loc2-loc1)-1))\n",
    "                    time_weight = np.exp(- abs(t2 - t1)/three_days)\n",
    "\n",
    "\n",
    "                    sim_item[item].setdefault(relate_item, 0)\n",
    "\n",
    "                    sim_item[item][relate_item] += loc_weight*time_weight/np.log(1+len(items))\n",
    "\n",
    "    return sim_item_corr, item_cnt\n",
    "\n",
    "sim_item_corr,item_cnt = get_sim2(train_sessions,'session_id','item_id',1)"
   ]
  },
  {
   "cell_type": "code",
   "execution_count": 13,
   "id": "25cc9955",
   "metadata": {
    "id": "25cc9955"
   },
   "outputs": [],
   "source": [
    "order = train_sessions['item_id'].value_counts().reset_index()\n",
    "order = order.sort_values('item_id', ascending=False)\n",
    "popular_items = list(order['index'])"
   ]
  },
  {
   "cell_type": "code",
   "execution_count": 14,
   "id": "5d6c71a5",
   "metadata": {
    "id": "5d6c71a5"
   },
   "outputs": [],
   "source": [
    "def recommend(sim_item_corr, popular_items, top_k, session_item_list):  \n",
    "    rank = {}  \n",
    "    for i in session_item_list:  \n",
    "        if i in sim_item_corr:\n",
    "            for j, wij in sorted(sim_item_corr[i].items(), key=lambda d: d[1], reverse=True)[:300]:  \n",
    "                if j not in session_item_list:  \n",
    "                    rank[j] = rank.get(j,0) + wij\n",
    "                    \n",
    "    rank_list = sorted(rank.items(), key=lambda d: d[1], reverse=True)[:top_k]\n",
    "    rank_array = np.array(rank_list)\n",
    "    item_list = list(rank_array[:,0].astype('int32'))\n",
    "\n",
    "    index = 0\n",
    "    while(len(item_list) < top_k):\n",
    "        if popular_items[index] not in item_list:\n",
    "            item_list.append(popular_items[index])\n",
    "        else:\n",
    "            index += 1\n",
    "            \n",
    "    return item_list"
   ]
  },
  {
   "cell_type": "code",
   "execution_count": 25,
   "id": "TApRDet13iDw",
   "metadata": {
    "colab": {
     "base_uri": "https://localhost:8080/"
    },
    "id": "TApRDet13iDw",
    "outputId": "ae504574-fb58-4573-8156-58dbc887175d"
   },
   "outputs": [
    {
     "name": "stderr",
     "output_type": "stream",
     "text": [
      "100%|████████████████████████████████████████████████████████████████████████████████| 50000/50000 [03:43<00:00, 223.54it/s]\n"
     ]
    },
    {
     "data": {
      "text/html": [
       "<div>\n",
       "<style scoped>\n",
       "    .dataframe tbody tr th:only-of-type {\n",
       "        vertical-align: middle;\n",
       "    }\n",
       "\n",
       "    .dataframe tbody tr th {\n",
       "        vertical-align: top;\n",
       "    }\n",
       "\n",
       "    .dataframe thead th {\n",
       "        text-align: right;\n",
       "    }\n",
       "</style>\n",
       "<table border=\"1\" class=\"dataframe\">\n",
       "  <thead>\n",
       "    <tr style=\"text-align: right;\">\n",
       "      <th></th>\n",
       "      <th>session_id</th>\n",
       "      <th>item_id</th>\n",
       "      <th>rank</th>\n",
       "    </tr>\n",
       "  </thead>\n",
       "  <tbody>\n",
       "    <tr>\n",
       "      <th>0</th>\n",
       "      <td>26</td>\n",
       "      <td>23612</td>\n",
       "      <td>1</td>\n",
       "    </tr>\n",
       "    <tr>\n",
       "      <th>1</th>\n",
       "      <td>26</td>\n",
       "      <td>5383</td>\n",
       "      <td>2</td>\n",
       "    </tr>\n",
       "    <tr>\n",
       "      <th>2</th>\n",
       "      <td>26</td>\n",
       "      <td>3650</td>\n",
       "      <td>3</td>\n",
       "    </tr>\n",
       "    <tr>\n",
       "      <th>3</th>\n",
       "      <td>26</td>\n",
       "      <td>3425</td>\n",
       "      <td>4</td>\n",
       "    </tr>\n",
       "    <tr>\n",
       "      <th>4</th>\n",
       "      <td>26</td>\n",
       "      <td>3260</td>\n",
       "      <td>5</td>\n",
       "    </tr>\n",
       "    <tr>\n",
       "      <th>...</th>\n",
       "      <td>...</td>\n",
       "      <td>...</td>\n",
       "      <td>...</td>\n",
       "    </tr>\n",
       "    <tr>\n",
       "      <th>4999995</th>\n",
       "      <td>4439757</td>\n",
       "      <td>26691</td>\n",
       "      <td>96</td>\n",
       "    </tr>\n",
       "    <tr>\n",
       "      <th>4999996</th>\n",
       "      <td>4439757</td>\n",
       "      <td>26942</td>\n",
       "      <td>97</td>\n",
       "    </tr>\n",
       "    <tr>\n",
       "      <th>4999997</th>\n",
       "      <td>4439757</td>\n",
       "      <td>11871</td>\n",
       "      <td>98</td>\n",
       "    </tr>\n",
       "    <tr>\n",
       "      <th>4999998</th>\n",
       "      <td>4439757</td>\n",
       "      <td>10931</td>\n",
       "      <td>99</td>\n",
       "    </tr>\n",
       "    <tr>\n",
       "      <th>4999999</th>\n",
       "      <td>4439757</td>\n",
       "      <td>16572</td>\n",
       "      <td>100</td>\n",
       "    </tr>\n",
       "  </tbody>\n",
       "</table>\n",
       "<p>5000000 rows × 3 columns</p>\n",
       "</div>"
      ],
      "text/plain": [
       "         session_id  item_id  rank\n",
       "0                26    23612     1\n",
       "1                26     5383     2\n",
       "2                26     3650     3\n",
       "3                26     3425     4\n",
       "4                26     3260     5\n",
       "...             ...      ...   ...\n",
       "4999995     4439757    26691    96\n",
       "4999996     4439757    26942    97\n",
       "4999997     4439757    11871    98\n",
       "4999998     4439757    10931    99\n",
       "4999999     4439757    16572   100\n",
       "\n",
       "[5000000 rows x 3 columns]"
      ]
     },
     "execution_count": 25,
     "metadata": {},
     "output_type": "execute_result"
    }
   ],
   "source": [
    "top_k = 100\n",
    "session_id_list = []\n",
    "item_id_list = []\n",
    "rank_list = []\n",
    "test_session_dict = test_sessions.groupby('session_id')['item_id'].agg(list).to_dict()\n",
    "\n",
    "for session_id, session_item_list in tqdm(test_session_dict.items()):\n",
    "    item_list = recommend(sim_item_corr, popular_items, top_k, session_item_list)\n",
    "    session_id_list += [session_id] * len(item_list)\n",
    "    item_id_list += list(item_list)\n",
    "\n",
    "    rank_list += range(1,len(item_list)+1)\n",
    "\n",
    "leaderboard = pd.DataFrame({\"session_id\":session_id_list, \"item_id\":item_id_list, \"rank\":rank_list})\n",
    "leaderboard.to_csv('leaderboard_result.csv',index=False)\n",
    "leaderboard"
   ]
  },
  {
   "cell_type": "code",
   "execution_count": null,
   "id": "07bdb143",
   "metadata": {},
   "outputs": [],
   "source": []
  }
 ],
 "metadata": {
  "@webio": {
   "lastCommId": null,
   "lastKernelId": null
  },
  "colab": {
   "collapsed_sections": [],
   "name": "recall_item_cf_loc_time.ipynb",
   "provenance": []
  },
  "kernelspec": {
   "display_name": "Python 3 (ipykernel)",
   "language": "python",
   "name": "python3"
  },
  "language_info": {
   "codemirror_mode": {
    "name": "ipython",
    "version": 3
   },
   "file_extension": ".py",
   "mimetype": "text/x-python",
   "name": "python",
   "nbconvert_exporter": "python",
   "pygments_lexer": "ipython3",
   "version": "3.10.5"
  }
 },
 "nbformat": 4,
 "nbformat_minor": 5
}
